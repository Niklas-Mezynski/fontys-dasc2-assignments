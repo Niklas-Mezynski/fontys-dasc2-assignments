{
 "cells": [
  {
   "cell_type": "code",
   "execution_count": 1,
   "metadata": {},
   "outputs": [],
   "source": [
    "import math\n",
    "import numpy as np"
   ]
  },
  {
   "cell_type": "code",
   "execution_count": 2,
   "metadata": {},
   "outputs": [
    {
     "name": "stdout",
     "output_type": "stream",
     "text": [
      "4.123105625617661\n"
     ]
    }
   ],
   "source": [
    "# 1. Write a script that prints the square root of the integer 17. What class is the resulting value? Why?\n",
    "print(math.sqrt(17))"
   ]
  },
  {
   "cell_type": "code",
   "execution_count": 3,
   "metadata": {},
   "outputs": [
    {
     "ename": "TypeError",
     "evalue": "unsupported operand type(s) for +: 'int' and 'str'",
     "output_type": "error",
     "traceback": [
      "\u001b[0;31m---------------------------------------------------------------------------\u001b[0m",
      "\u001b[0;31mTypeError\u001b[0m                                 Traceback (most recent call last)",
      "Cell \u001b[0;32mIn[3], line 2\u001b[0m\n\u001b[1;32m      1\u001b[0m \u001b[39m# 2. What error do you get when you run print(81 + 'Forty-two')? Can you explain the name of the error?\u001b[39;00m\n\u001b[0;32m----> 2\u001b[0m \u001b[39mprint\u001b[39m(\u001b[39m81\u001b[39;49m \u001b[39m+\u001b[39;49m \u001b[39m'\u001b[39;49m\u001b[39mForty-two\u001b[39;49m\u001b[39m'\u001b[39;49m)\n\u001b[1;32m      4\u001b[0m \u001b[39m# The error is TypeError: unsupported operand type(s) for +: 'int' and 'str' \u001b[39;00m\n\u001b[1;32m      5\u001b[0m \u001b[39m# which means that you can't add an integer and a string together as they have different types.\u001b[39;00m\n",
      "\u001b[0;31mTypeError\u001b[0m: unsupported operand type(s) for +: 'int' and 'str'"
     ]
    }
   ],
   "source": [
    "# 2. What error do you get when you run print(81 + 'Forty-two')? Can you explain the name of the error?\n",
    "print(81 + 'Forty-two')\n",
    "\n",
    "# The error is TypeError: unsupported operand type(s) for +: 'int' and 'str' \n",
    "# which means that you can't add an integer and a string together as they have different types."
   ]
  },
  {
   "cell_type": "code",
   "execution_count": 4,
   "metadata": {},
   "outputs": [
    {
     "name": "stdout",
     "output_type": "stream",
     "text": [
      "12.0\n"
     ]
    }
   ],
   "source": [
    "# 3. What is the result of the calculation 2 ** 3 / 2 + 8? What is the type? Why?\n",
    "print(2 ** 3 / 2 + 8)\n",
    "\n",
    "# The result is 12.0 and the type is float. This is because the result of 2 ** 3 is 8, which is an integer,\n",
    "# but the result of 8 / 2 is 4.0, which is a float. The result of 4.0 + 8 is 12.0, which is a float."
   ]
  },
  {
   "cell_type": "code",
   "execution_count": 5,
   "metadata": {},
   "outputs": [
    {
     "name": "stdout",
     "output_type": "stream",
     "text": [
      "81 plus 23 equals 104\n"
     ]
    }
   ],
   "source": [
    "# Given the following code\n",
    "\n",
    "x = 81\n",
    "y = 23\n",
    "\n",
    "# 4. Write a third line that uses a format string and the variables x and y to print '81 plus 23 equals 104'\n",
    "print(f'{x} plus {y} equals {x + y}')"
   ]
  },
  {
   "cell_type": "code",
   "execution_count": 6,
   "metadata": {},
   "outputs": [
    {
     "name": "stdout",
     "output_type": "stream",
     "text": [
      "81 divided by 23 equals 3 with a remainder of 12\n"
     ]
    }
   ],
   "source": [
    "# 5. Write a fourth line that uses a format string and the variables x and y to print '81 divided by 23 equals 3 with a remainder of 12'\n",
    "print(f'{x} divided by {y} equals {x // y} with a remainder of {x % y}')"
   ]
  },
  {
   "cell_type": "code",
   "execution_count": 7,
   "metadata": {},
   "outputs": [],
   "source": [
    "# 6. Are dictionaries mutable or not?\n",
    "# Dictionaries are mutable."
   ]
  },
  {
   "cell_type": "code",
   "execution_count": 8,
   "metadata": {},
   "outputs": [
    {
     "name": "stdout",
     "output_type": "stream",
     "text": [
      ".setimret no ylniam sdeef taht lammam nacirfA lanrutcon depirts-kcalb a\n"
     ]
    }
   ],
   "source": [
    "my_dictionary = {\n",
    "    'aardvark': 'a nocturnal badger-sized burrowing mammal of Africa, with long ears, a tubular snout, and a long extensible tongue, feeding on ants and termites.',\n",
    "    'aardwolf': 'a black-striped nocturnal African mammal that feeds mainly on termites.',\n",
    "    'abaca': 'a large herbaceous Asian plant of the banana family, yielding Manila hemp.',\n",
    "}\n",
    "\n",
    "# 7. Given my_dictionary as given above, write code that takes the second description, and prints \n",
    "# the individual words of the description in reverse order.\n",
    "\n",
    "print(my_dictionary['aardwolf'][::-1])\n",
    "# This [::-1] is a slice that means \"all of the string, but backwards\"."
   ]
  },
  {
   "cell_type": "code",
   "execution_count": 9,
   "metadata": {},
   "outputs": [
    {
     "name": "stdout",
     "output_type": "stream",
     "text": [
      "6.0\n"
     ]
    }
   ],
   "source": [
    "# 8. Write code that computes the sum of an arbitrary list of numbers, for example the list l = [1, 2, 3.0]\n",
    "l = [1, 2, 3.0]\n",
    "print(sum(l))\n"
   ]
  },
  {
   "cell_type": "code",
   "execution_count": 10,
   "metadata": {},
   "outputs": [
    {
     "name": "stdout",
     "output_type": "stream",
     "text": [
      "1307674368000\n"
     ]
    }
   ],
   "source": [
    "# 9. The factorial of a positive integer n, denoted by n!, is the product of all positive integers (i.e. larger than zero) less than or equal to n. For example, 5! = 5 * 4 * 3 * 2 * 1. Use a for loop to compute the factorial of 15.\n",
    "factorial = 1\n",
    "n = 15\n",
    "for i in range(1, n + 1):\n",
    "    factorial = factorial * i\n",
    "print(factorial)\n"
   ]
  },
  {
   "cell_type": "code",
   "execution_count": 11,
   "metadata": {},
   "outputs": [
    {
     "name": "stdout",
     "output_type": "stream",
     "text": [
      "0\n",
      "15\n",
      "21\n",
      "30\n",
      "42\n",
      "45\n",
      "60\n",
      "63\n",
      "75\n",
      "84\n",
      "90\n"
     ]
    }
   ],
   "source": [
    "# 10. Write code that checks for each number between 0 and 100 if it is divisible by 3. If so, print this number if it is also divisible by 5 or 7.\n",
    "for i in range(0, 101):\n",
    "    if i % 3 == 0:\n",
    "        if i % 5 == 0 or i % 7 == 0:\n",
    "            print(i)"
   ]
  },
  {
   "cell_type": "code",
   "execution_count": 12,
   "metadata": {},
   "outputs": [
    {
     "name": "stdout",
     "output_type": "stream",
     "text": [
      "12829 is a prime number.\n"
     ]
    }
   ],
   "source": [
    "# 11. A prime number is a number larger than 1 that is only divisible by 1 and itself. Write code to check if 12829 is prime.\n",
    "# Hint: use a for loop and the modulo operator.\n",
    "n = 12829\n",
    "for i in range(2, n):\n",
    "    if n % i == 0:\n",
    "        print(f'{n} is not a prime number.')\n",
    "        break\n",
    "else:\n",
    "    print(f'{n} is a prime number.')\n"
   ]
  },
  {
   "cell_type": "code",
   "execution_count": 13,
   "metadata": {},
   "outputs": [
    {
     "name": "stdout",
     "output_type": "stream",
     "text": [
      "32\n",
      "The lists are not of equal length.\n",
      "None\n"
     ]
    }
   ],
   "source": [
    "# 12. Write a function that takes two lists as arguments, and returns the inner product of the list. The inner product is the sum of the element-wise products of the list. Test your code by calling it with two lists of floats.\n",
    "def inner_product(list1, list2):\n",
    "    if len(list1) != len(list2):\n",
    "        print('The lists are not of equal length.')\n",
    "        return\n",
    "    \n",
    "    product = 0\n",
    "    for i in range(len(list1)):\n",
    "        product += list1[i] * list2[i]\n",
    "    return product\n",
    "\n",
    "print(inner_product([1, 2, 3], [4, 5, 6]))\n",
    "print(inner_product([1, 2, 3], [4, 5, 6, 7]))"
   ]
  },
  {
   "cell_type": "code",
   "execution_count": 14,
   "metadata": {},
   "outputs": [
    {
     "name": "stdout",
     "output_type": "stream",
     "text": [
      "[1, 2, 3, 4, 5, 6, 7, 8, 9, 10]\n"
     ]
    }
   ],
   "source": [
    "# 13. Write a function called unique() that takes a list as an argument, and returns a new list containing all unique values in the list.\n",
    "def unique(list1):\n",
    "    list2 = []\n",
    "    for i in list1:\n",
    "        if i not in list2:\n",
    "            list2.append(i)\n",
    "    return list2\n",
    "\n",
    "print(unique([1, 2, 3, 4, 5, 6, 7, 8, 9, 10, 1]))"
   ]
  },
  {
   "cell_type": "code",
   "execution_count": 15,
   "metadata": {},
   "outputs": [
    {
     "name": "stdout",
     "output_type": "stream",
     "text": [
      "(78.53981633974483, 31.41592653589793)\n"
     ]
    }
   ],
   "source": [
    "# 14. Write a function that takes a circle's radius as its argument and returns the circle's surface area and circumference. Call the function to check if it works.\n",
    "def circle(radius):\n",
    "    return math.pi * radius ** 2, 2 * math.pi * radius\n",
    "\n",
    "print(circle(5))"
   ]
  },
  {
   "cell_type": "code",
   "execution_count": 16,
   "metadata": {},
   "outputs": [],
   "source": [
    "# 15. Write a function that takes two strings as its arguments and returns True if any of the letters in the first string occur in the second string, and False if not.\n",
    "def letters(string1, string2):\n",
    "    for i in string1:\n",
    "        if i in string2:\n",
    "            return True\n",
    "    return False"
   ]
  }
 ],
 "metadata": {
  "kernelspec": {
   "display_name": "testenv",
   "language": "python",
   "name": "python3"
  },
  "language_info": {
   "codemirror_mode": {
    "name": "ipython",
    "version": 3
   },
   "file_extension": ".py",
   "mimetype": "text/x-python",
   "name": "python",
   "nbconvert_exporter": "python",
   "pygments_lexer": "ipython3",
   "version": "3.8.10"
  },
  "orig_nbformat": 4
 },
 "nbformat": 4,
 "nbformat_minor": 2
}
